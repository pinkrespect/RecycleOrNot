{
 "cells": [
  {
   "cell_type": "code",
   "execution_count": null,
   "metadata": {
    "collapsed": false
   },
   "outputs": [
    {
     "name": "stdout",
     "output_type": "stream",
     "text": [
      " * name: @_maisie_cse_ *\n",
      " [ 마지막 테스트 ~(ㅇㅅㅇ)~ 어펜드는 잘 작동할 것인가 ] https://twitter.com/_maisie_cse_/status/866864078173515776\n",
      "마지막 NNG\n",
      "테스트 NNG\n",
      "~ SO\n",
      "( SS\n",
      "ㅇ NNG\n",
      "ㅅ NNG\n",
      "ㅇ NNG\n",
      ") SS\n",
      "~ SO\n",
      "어 VV\n",
      "어 ECS\n",
      "펜 NNG\n",
      "들 VV\n",
      "는 ETD\n",
      "잘 MAG\n",
      "작동 NNP\n",
      "하 XSV\n",
      "ㄹ ETD\n",
      "것 NNB\n",
      "이 VCP\n",
      "ㄴ가 ECS\n",
      "['마지막', '테스트', 'ㅇ', 'ㅅ', 'ㅇ', '펜']\n"
     ]
    }
   ],
   "source": [
    "import tweepy\n",
    "from tweepy.streaming import StreamListener\n",
    "from konlpy.tag import Kkma\n",
    "\n",
    "import sqlalchemy\n",
    "from auth import C_KEY, C_SECRET, A_TOKEN, A_SECRET\n",
    "\n",
    "AUTH = tweepy.OAuthHandler(C_KEY, C_SECRET)\n",
    "AUTH.set_access_token(A_TOKEN, A_SECRET)\n",
    "\n",
    "API = tweepy.API(AUTH, wait_on_rate_limit=True,\n",
    "                 wait_on_rate_limit_notify=True)\n",
    "\n",
    "ME = API.me()\n",
    "MY_NAME = '@' + (ME.screen_name).lower()\n",
    "\n",
    "print(\" * name: \" + MY_NAME + \" *\")\n",
    "\n",
    "\n",
    "class Timeline(StreamListener):\n",
    "    def on_status(self, status):\n",
    "        timelines = API.user_timeline(count=1)\n",
    "        for timeline in timelines:\n",
    "            url = \"https://twitter.com/\" + ME.screen_name.lower() + \"/status/\"\n",
    "            url += str(timeline.id)\n",
    "            print(\" [ \" + timeline.text + \" ] \" + url)\n",
    "            kkma = Kkma()\n",
    "            poslist = kkma.pos(timeline.text)\n",
    "            nnglist = list()\n",
    "            for word in poslist:\n",
    "                if word[1] == 'NNG':\n",
    "                    nnglist.append(word[0])\n",
    "            print(nnglist)\n",
    "\n",
    "# Reminder: Hashtag String\n",
    "# Read Later: Favorite\n",
    "\n",
    "\n",
    "listener = Timeline()\n",
    "stream = tweepy.Stream(auth=AUTH, listener=listener)\n",
    "stream.userstream(_with=\"user\")"
   ]
  },
  {
   "cell_type": "code",
   "execution_count": null,
   "metadata": {
    "collapsed": true
   },
   "outputs": [],
   "source": []
  }
 ],
 "metadata": {
  "kernelspec": {
   "display_name": "Python 3",
   "language": "python",
   "name": "python3"
  },
  "language_info": {
   "codemirror_mode": {
    "name": "ipython",
    "version": 3
   },
   "file_extension": ".py",
   "mimetype": "text/x-python",
   "name": "python",
   "nbconvert_exporter": "python",
   "pygments_lexer": "ipython3",
   "version": "3.6.1"
  }
 },
 "nbformat": 4,
 "nbformat_minor": 2
}
